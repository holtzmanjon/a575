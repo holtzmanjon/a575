{
 "cells": [
  {
   "cell_type": "code",
   "execution_count": 6,
   "metadata": {
    "collapsed": false
   },
   "outputs": [
    {
     "name": "stdout",
     "output_type": "stream",
     "text": [
      "test f(2):  9.58740105197\n",
      "test f(3):  29.0800838231\n",
      "Simpson's 0-10: 2527.22943298\n",
      "Simpson's 2-7:  609.707858599\n",
      "Simpson's 1-2:  5.0548139734\n",
      "test simpsons:  1150.0 1150.0\n"
     ]
    }
   ],
   "source": [
    "def myfunc(x) :\n",
    "    ''' Function to calculate f(x)'''\n",
    "    return x**3 + x**(2./3.)\n",
    "\n",
    "print 'test f(2): ',myfunc(2)   # check with calculator\n",
    "print 'test f(3): ',myfunc(3)\n",
    "\n",
    "def simp(a,b,func) :\n",
    "    ''' Function to do Simpson's integration of input function between a and b'''\n",
    "    return (b-a)/6. * (func(a) + 4*func((a+b)/2.) + func(b))\n",
    "\n",
    "# Show the Simpson's result\n",
    "print \"Simpson's 0-10:\", simp(0,10,myfunc)\n",
    "print \"Simpson's 2-7: \",simp(2,7,myfunc)\n",
    "print \"Simpson's 1-2: \",simp(1,2,myfunc)\n",
    "\n",
    "# check that Simpson's is exact for a quadratic\n",
    "def testfunc(x) :\n",
    "    return 3*x**2 + 2*x + 5\n",
    "\n",
    "def testint(x) :\n",
    "    return x**3 + x**2 + 5*x\n",
    "\n",
    "print 'test simpsons: ', simp(0,10,testfunc), testint(10.)-testint(0.)\n"
   ]
  },
  {
   "cell_type": "code",
   "execution_count": 7,
   "metadata": {
    "collapsed": false
   },
   "outputs": [
    {
     "name": "stdout",
     "output_type": "stream",
     "text": [
      "Analytic result:  2527.849533\n"
     ]
    }
   ],
   "source": [
    "def intfunc(x) :\n",
    "    ''' Function to return indefinite integral of f(x), evaluated at x'''\n",
    "    return(x**4/4. + x**(5./3.) / (5./3.))\n",
    "\n",
    "# Show the analytical result\n",
    "print \"Analytic result: \", intfunc(10)-intfunc(0)\n"
   ]
  },
  {
   "cell_type": "code",
   "execution_count": 9,
   "metadata": {
    "collapsed": false
   },
   "outputs": [
    {
     "name": "stdout",
     "output_type": "stream",
     "text": [
      "-0.000245307331841\n"
     ]
    }
   ],
   "source": [
    "# Show the fractional error\n",
    "a=0.\n",
    "b=10.\n",
    "analytical=intfunc(b)-intfunc(a)\n",
    "print (simp(a,b,myfunc)-analytical)/analytical"
   ]
  },
  {
   "cell_type": "code",
   "execution_count": 10,
   "metadata": {
    "collapsed": false
   },
   "outputs": [
    {
     "name": "stdout",
     "output_type": "stream",
     "text": [
      "2527.22943298 2527.22943298\n"
     ]
    }
   ],
   "source": [
    "def integ(a,b,n,myfunc) :\n",
    "    '''Routine to calculate the integral in n steps'''\n",
    "    dx = (b-a)/n\n",
    "    sum = 0\n",
    "    for i in range(n) :\n",
    "        sum += simp(a+i*dx,a+i*dx+dx,myfunc)\n",
    "    return sum\n",
    "\n",
    "# check the result for n=1, by comparing with previous single call\n",
    "print integ(a,b,1,myfunc), simp(a,b,myfunc)"
   ]
  },
  {
   "cell_type": "code",
   "execution_count": 12,
   "metadata": {
    "collapsed": false
   },
   "outputs": [],
   "source": [
    "#run results for n=1 to 10, save in list\n",
    "res=[]\n",
    "for n in range(1,11) :\n",
    "    res.append(integ(a,b,n,myfunc))"
   ]
  },
  {
   "cell_type": "code",
   "execution_count": 13,
   "metadata": {
    "collapsed": false
   },
   "outputs": [],
   "source": [
    "%matplotlib inline"
   ]
  },
  {
   "cell_type": "code",
   "execution_count": 14,
   "metadata": {
    "collapsed": false
   },
   "outputs": [
    {
     "data": {
      "image/png": "[encoded data removed]",
      "text/plain": [
       "<matplotlib.figure.Figure at 0x1067c9bd0>"
      ]
     },
     "metadata": {},
     "output_type": "display_data"
    }
   ],
   "source": [
    "# plot the results\n",
    "res=np.array(res)\n",
    "plt.plot(range(1,11),(res-analytical)/analytical)\n",
    "plt.xlabel('Number of pieces')\n",
    "plt.ylabel('Fractional error')\n",
    "plt.savefig('../q3/simp.jpg')"
   ]
  },
  {
   "cell_type": "code",
   "execution_count": 15,
   "metadata": {
    "collapsed": false
   },
   "outputs": [
    {
     "name": "stdout",
     "output_type": "stream",
     "text": [
      "<TR><TD> 1 <TD> -0.000245307331841\n",
      "<TR><TD> 2 <TD> -7.7656140706e-05\n",
      "<TR><TD> 3 <TD> -3.95427362471e-05\n",
      "<TR><TD> 4 <TD> -2.44881707436e-05\n",
      "<TR><TD> 5 <TD> -1.68846338361e-05\n",
      "<TR><TD> 6 <TD> -1.24609013845e-05\n",
      "<TR><TD> 7 <TD> -9.63799435511e-06\n",
      "<TR><TD> 8 <TD> -7.71512276632e-06\n",
      "<TR><TD> 9 <TD> -6.34008146724e-06\n",
      "<TR><TD> 10 <TD> -5.31908134828e-06\n"
     ]
    }
   ],
   "source": [
    "for i in range(10) :\n",
    "    print '<TR><TD>',i+1,'<TD>',(res[i]-analytical)/analytical"
   ]
  },
  {
   "cell_type": "code",
   "execution_count": 16,
   "metadata": {
    "collapsed": false
   },
   "outputs": [
    {
     "name": "stdout",
     "output_type": "stream",
     "text": [
      "1 & -0.000245307331841 \\\\\n",
      "2 & -7.7656140706e-05 \\\\\n",
      "3 & -3.95427362471e-05 \\\\\n",
      "4 & -2.44881707436e-05 \\\\\n",
      "5 & -1.68846338361e-05 \\\\\n",
      "6 & -1.24609013845e-05 \\\\\n",
      "7 & -9.63799435511e-06 \\\\\n",
      "8 & -7.71512276632e-06 \\\\\n",
      "9 & -6.34008146724e-06 \\\\\n",
      "10 & -5.31908134828e-06 \\\\\n"
     ]
    }
   ],
   "source": [
    "for i in range(10) :\n",
    "    print i+1,'&',(res[i]-analytical)/analytical,'\\\\\\\\'"
   ]
  },
  {
   "cell_type": "code",
   "execution_count": null,
   "metadata": {
    "collapsed": true
   },
   "outputs": [],
   "source": []
  },
  {
   "cell_type": "code",
   "execution_count": null,
   "metadata": {
    "collapsed": true
   },
   "outputs": [],
   "source": []
  }
 ],
 "metadata": {
  "kernelspec": {
   "display_name": "Python 2",
   "language": "python",
   "name": "python2"
  },
  "language_info": {
   "codemirror_mode": {
    "name": "ipython",
    "version": 2
   },
   "file_extension": ".py",
   "mimetype": "text/x-python",
   "name": "python",
   "nbconvert_exporter": "python",
   "pygments_lexer": "ipython2",
   "version": "2.7.10"
  }
 },
 "nbformat": 4,
 "nbformat_minor": 0
}
