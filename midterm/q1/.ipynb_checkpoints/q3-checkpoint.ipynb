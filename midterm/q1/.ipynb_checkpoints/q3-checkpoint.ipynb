{
 "cells": [
  {
   "cell_type": "code",
   "execution_count": 12,
   "metadata": {
    "collapsed": false
   },
   "outputs": [
    {
     "data": {
      "text/plain": [
       "20860.562766310773"
      ]
     },
     "execution_count": 12,
     "metadata": {},
     "output_type": "execute_result"
    }
   ],
   "source": [
    "def myfunc(x) :\n",
    "    return x**4 + x**(2./3.)\n",
    "\n",
    "def simp(a,b,func) :\n",
    "    return (b-a)/6. * (func(a) + 4*func((a+b)/2.) + func(b))\n",
    "\n",
    "simp(0,10,myfunc)"
   ]
  },
  {
   "cell_type": "code",
   "execution_count": 13,
   "metadata": {
    "collapsed": false
   },
   "outputs": [
    {
     "name": "stdout",
     "output_type": "stream",
     "text": [
      "20027.849533\n"
     ]
    }
   ],
   "source": [
    "def intfunc(x) :\n",
    "    return(x**5/5. + x**(5./3.) / (5./3.))\n",
    "\n",
    "print intfunc(10)-intfunc(0)\n"
   ]
  },
  {
   "cell_type": "code",
   "execution_count": 14,
   "metadata": {
    "collapsed": false
   },
   "outputs": [
    {
     "name": "stdout",
     "output_type": "stream",
     "text": [
      "8.52913368399\n",
      "8.30488126236\n"
     ]
    }
   ],
   "source": [
    "print simp(0,2,myfunc)\n",
    "print intfunc(2)-intfunc(0)"
   ]
  },
  {
   "cell_type": "code",
   "execution_count": 46,
   "metadata": {
    "collapsed": false
   },
   "outputs": [
    {
     "name": "stdout",
     "output_type": "stream",
     "text": [
      "1.0415777656\n"
     ]
    }
   ],
   "source": [
    "a=0.\n",
    "b=10.\n",
    "analytical=intfunc(b)-intfunc(a)\n",
    "print simp(a,b,myfunc)/analytical"
   ]
  },
  {
   "cell_type": "code",
   "execution_count": 47,
   "metadata": {
    "collapsed": false
   },
   "outputs": [
    {
     "name": "stdout",
     "output_type": "stream",
     "text": [
      "20860.5627663\n"
     ]
    }
   ],
   "source": [
    "def integ(a,b,n,myfunc) :\n",
    "    dx = (b-a)/n\n",
    "    sum = 0\n",
    "    for i in range(n) :\n",
    "        sum += simp(a+i*dx,a+i*dx+dx,myfunc)\n",
    "    return sum\n",
    "\n",
    "print integ(a,b,1,myfunc)"
   ]
  },
  {
   "cell_type": "code",
   "execution_count": 48,
   "metadata": {
    "collapsed": false
   },
   "outputs": [],
   "source": [
    "res=[]\n",
    "for n in range(1,11) :\n",
    "    res.append(integ(a,b,n,myfunc))"
   ]
  },
  {
   "cell_type": "code",
   "execution_count": 60,
   "metadata": {
    "collapsed": true
   },
   "outputs": [],
   "source": [
    "%matplotlib inline"
   ]
  },
  {
   "cell_type": "code",
   "execution_count": 66,
   "metadata": {
    "collapsed": false
   },
   "outputs": [
    {
     "data": {
      "image/png": "[encoded data removed]",
      "text/plain": [
       "<matplotlib.figure.Figure at 0x107e1f3d0>"
      ]
     },
     "metadata": {},
     "output_type": "display_data"
    }
   ],
   "source": [
    "res=np.array(res)\n",
    "plt.plot(range(1,11),(res-analytical)/analytical)\n",
    "plt.xlabel('Number of pieces')\n",
    "plt.ylabel('Fractional error')\n",
    "plt.savefig('../q3/simp.jpg')"
   ]
  },
  {
   "cell_type": "code",
   "execution_count": null,
   "metadata": {
    "collapsed": true
   },
   "outputs": [],
   "source": []
  }
 ],
 "metadata": {
  "kernelspec": {
   "display_name": "Python 2",
   "language": "python",
   "name": "python2"
  },
  "language_info": {
   "codemirror_mode": {
    "name": "ipython",
    "version": 2
   },
   "file_extension": ".py",
   "mimetype": "text/x-python",
   "name": "python",
   "nbconvert_exporter": "python",
   "pygments_lexer": "ipython2",
   "version": "2.7.10"
  }
 },
 "nbformat": 4,
 "nbformat_minor": 0
}
