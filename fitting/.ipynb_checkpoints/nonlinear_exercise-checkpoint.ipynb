{
 "cells": [
  {
   "cell_type": "markdown",
   "metadata": {},
   "source": [
    "First set up generic Python/iPython for inline plots and common packages"
   ]
  },
  {
   "cell_type": "code",
   "execution_count": 1,
   "metadata": {
    "collapsed": false
   },
   "outputs": [],
   "source": [
    "%matplotlib inline\n",
    "import numpy as np\n",
    "import matplotlib.pyplot as plt\n",
    "import scipy"
   ]
  },
  {
   "cell_type": "markdown",
   "metadata": {},
   "source": [
    "OK, here's a nonlinear function"
   ]
  },
  {
   "cell_type": "code",
   "execution_count": 103,
   "metadata": {
    "collapsed": false
   },
   "outputs": [
    {
     "data": {
      "text/plain": [
       "<Container object of 3 artists>"
      ]
     },
     "execution_count": 103,
     "metadata": {},
     "output_type": "execute_result"
    },
    {
     "data": {
      "image/png": "[encoded data removed]",
      "text/plain": [
       "<matplotlib.figure.Figure at 0x109e4db50>"
      ]
     },
     "metadata": {},
     "output_type": "display_data"
    }
   ],
   "source": [
    "def func(x, a=50.6, b=33.1, c=4) :\n",
    "    ''' A simple Gaussian function '''\n",
    "    return a * np.exp(-0.5 * (x-b)**2/c**2)  \n",
    "\n",
    "# get 100 samples with homoschedastic errors\n",
    "n=100\n",
    "sigma=5.5+np.zeros(100)\n",
    "x=np.arange(n)\n",
    "# get the y values with gaussian errors\n",
    "y=func(x)+np.random.normal(0.,sigma,n)\n",
    "# plot it up\n",
    "plt.clf()\n",
    "plt.errorbar(x,y,yerr=sigma,marker='o',linestyle='none')"
   ]
  },
  {
   "cell_type": "code",
   "execution_count": 126,
   "metadata": {
    "collapsed": false
   },
   "outputs": [
    {
     "name": "stdout",
     "output_type": "stream",
     "text": [
      "Iter 0\n",
      "[60.0, 30.0, 10.0]\n",
      "[-28.35398981   2.52932009  -2.17745302]\n",
      "Iter 1\n",
      "[ 31.64601019  32.52932009   7.82254698]\n",
      "[ 9.43393333  1.46794315 -4.39505987]\n",
      "Iter 2\n",
      "[ 41.07994352  33.99726324   3.42748711]\n",
      "[ 8.18677539 -0.98777596  0.65086673]\n",
      "Iter 3\n",
      "[ 49.26671891  33.00948729   4.07835384]\n",
      "[ 1.277505    0.16000308 -0.16194137]\n",
      "Iter 4\n",
      "[ 50.54422391  33.16949037   3.91641247]\n",
      "[ 0.1595562  -0.0149652  -0.01294938]\n",
      "Iter 5\n",
      "[ 50.70378011  33.15452517   3.90346309]\n",
      "[ 0.01698303 -0.00053115 -0.00250849]\n",
      "Iter 6\n",
      "[ 50.72076314  33.15399402   3.9009546 ]\n",
      "[ 0.00246486 -0.00011614 -0.00037693]\n",
      "Iter 7\n",
      "[ 50.723228    33.15387789   3.90057767]\n",
      "[  3.80422787e-04  -1.74768701e-05  -5.84580018e-05]\n",
      "Iter 8\n",
      "[ 50.72360842  33.15386041   3.90051921]\n",
      "[  5.88143668e-05  -2.71159360e-06  -9.04414826e-06]\n",
      "Iter 9\n",
      "[ 50.72366723  33.1538577    3.90051016]\n",
      "[  9.10104853e-06  -4.19541506e-07  -1.39966215e-06]\n"
     ]
    }
   ],
   "source": [
    "def deriv(x,pars) :\n",
    "    f = func(x,a=pars[0],b=pars[1],c=pars[2])\n",
    "    dfda = f/pars[0]\n",
    "    dfdb = f*(x-pars[1])/pars[2]**2\n",
    "    dfdc= f * (x-pars[1])**2/pars[2]**3\n",
    "    return np.array([dfda,dfdb,dfdc])\n",
    "    \n",
    "pars=[60.,30.,10.]\n",
    "# loop over parameters, sums over data points are done with vector arithmetic\n",
    "npar=3\n",
    "alpha=np.zeros([npar,npar])\n",
    "beta=np.zeros(npar)\n",
    "\n",
    "for iter in range(10) :\n",
    "  print 'Iter', iter\n",
    "  print pars\n",
    "  for k in np.arange(npar) :\n",
    "    beta[k] = np.sum(deriv(x,pars)[k]*(y-func(x,a=pars[0],b=pars[1],c=pars[2]))/sigma**2)\n",
    "    for j in np.arange(npar) :\n",
    "        alpha[k,j] = np.sum(deriv(x,pars)[k]*deriv(x,pars)[j]/sigma**2)\n",
    "  c=np.linalg.inv(alpha)\n",
    "  print np.dot(c,beta)\n",
    "  pars += np.dot(c,beta)"
   ]
  },
  {
   "cell_type": "code",
   "execution_count": 127,
   "metadata": {
    "collapsed": false
   },
   "outputs": [
    {
     "name": "stdout",
     "output_type": "stream",
     "text": [
      "Model: Gaussian1D\n",
      "Inputs: (u'x',)\n",
      "Outputs: (u'y',)\n",
      "Model set size: 1\n",
      "Parameters:\n",
      "      amplitude        mean         stddev   \n",
      "    ------------- ------------- -------------\n",
      "    50.7236084191 33.1538604098 3.90051920851\n",
      "[ 50.72360842  33.15386041   3.90051921]\n"
     ]
    },
    {
     "data": {
      "image/png": "[encoded data removed]",
      "text/plain": [
       "<matplotlib.figure.Figure at 0x10966e2d0>"
      ]
     },
     "metadata": {},
     "output_type": "display_data"
    }
   ],
   "source": [
    "from astropy.modeling import models, fitting\n",
    "fit_p = fitting.LevMarLSQFitter()\n",
    "p_init = models.Gaussian1D(amplitude=60,mean=30,stddev=10)\n",
    "pfit = fit_p(p_init,x,y)\n",
    "print pfit\n",
    "print pfit.parameters\n",
    "# plot it up\n",
    "plt.errorbar(x,y,yerr=sigma,marker='o',linestyle='none')\n",
    "# pfit(x) evaluates the fit at locations x\n",
    "plt.plot(x,pfit(x))\n",
    "plt.draw()"
   ]
  },
  {
   "cell_type": "markdown",
   "metadata": {},
   "source": [
    "OK, let's do a Monte Carlo to get distribution of uncertainties"
   ]
  },
  {
   "cell_type": "code",
   "execution_count": 64,
   "metadata": {
    "collapsed": false
   },
   "outputs": [
    {
     "name": "stdout",
     "output_type": "stream",
     "text": [
      "(50, 3)\n",
      "<type 'numpy.ndarray'>\n",
      "<type 'numpy.ndarray'>\n"
     ]
    },
    {
     "data": {
      "image/png": "[encoded data removed]",
      "text/plain": [
       "<matplotlib.figure.Figure at 0x109663190>"
      ]
     },
     "metadata": {},
     "output_type": "display_data"
    }
   ],
   "source": [
    "diff=[]\n",
    "out=[]\n",
    "for sim in range(50) :\n",
    "    test=func(x,a=pfit.parameters[0],b=pfit.parameters[1],c=pfit.parameters[2])+np.random.normal(0.,sigma,n)\n",
    "    simfit = fit_p(p_init,x,test)\n",
    "    diff.append(simfit.parameters-pfit.parameters)\n",
    "    out.append(simfit.parameters)\n",
    " \n",
    "diff=np.array(diff)\n",
    "print diff.shape\n",
    "out=np.array(out)\n",
    "\n",
    "plt.scatter(diff[:,0],diff[:,2])\n",
    "plt.xlim([-15,15])\n",
    "plt.ylim([-1.5,1.5])\n",
    "print type(out)\n",
    "print type(diff)\n"
   ]
  },
  {
   "cell_type": "code",
   "execution_count": 65,
   "metadata": {
    "collapsed": false
   },
   "outputs": [
    {
     "data": {
      "text/plain": [
       "<matplotlib.collections.PathCollection at 0x10ac39810>"
      ]
     },
     "execution_count": 65,
     "metadata": {},
     "output_type": "execute_result"
    },
    {
     "data": {
      "image/png": "[encoded data removed]",
      "text/plain": [
       "<matplotlib.figure.Figure at 0x1098cff50>"
      ]
     },
     "metadata": {},
     "output_type": "display_data"
    }
   ],
   "source": [
    "plt.scatter(out[:,0],out[:,2])"
   ]
  },
  {
   "cell_type": "markdown",
   "metadata": {},
   "source": [
    "OK now let's do a bootstrap resampling from original sample"
   ]
  },
  {
   "cell_type": "code",
   "execution_count": 66,
   "metadata": {
    "collapsed": false
   },
   "outputs": [
    {
     "data": {
      "text/plain": [
       "(-2.5, 2.5)"
      ]
     },
     "execution_count": 66,
     "metadata": {},
     "output_type": "execute_result"
    },
    {
     "data": {
      "image/png": "[encoded data removed]",
      "text/plain": [
       "<matplotlib.figure.Figure at 0x10ac39890>"
      ]
     },
     "metadata": {},
     "output_type": "display_data"
    }
   ],
   "source": [
    "diff=[]\n",
    "for sim in range(500) :\n",
    "    resample_i = np.floor(np.random.rand(n)*len(x)).astype(int)\n",
    "    x_resample = x[resample_i]\n",
    "    y_resample = y[resample_i]\n",
    "    simfit = fit_p(p_init,x_resample,y_resample)\n",
    "    diff.append(simfit.parameters-pfit.parameters)\n",
    " \n",
    "diff=np.array(diff)\n",
    "diff.shape\n",
    "\n",
    "plt.subplot(211)\n",
    "plt.scatter(diff[:,0],diff[:,2])\n",
    "plt.xlim([-15,15])\n",
    "plt.ylim([-2.5,2.5])\n",
    "\n",
    "\n"
   ]
  },
  {
   "cell_type": "code",
   "execution_count": 67,
   "metadata": {
    "collapsed": false
   },
   "outputs": [
    {
     "data": {
      "text/plain": [
       "<matplotlib.image.AxesImage at 0x10ab49d90>"
      ]
     },
     "execution_count": 67,
     "metadata": {},
     "output_type": "execute_result"
    },
    {
     "data": {
      "image/png": "[encoded data removed]",
      "text/plain": [
       "<matplotlib.figure.Figure at 0x10ab49b90>"
      ]
     },
     "metadata": {},
     "output_type": "display_data"
    }
   ],
   "source": [
    "#histogram definition\n",
    "xmin=-10\n",
    "xmax=10\n",
    "ymin=-1.5\n",
    "ymax=1.5\n",
    "xyrange = [[ymin,ymax],[xmin,xmax]] # data range\n",
    "bins = [50,50] # number of bins\n",
    "\n",
    "plt.xlim([xmin,xmax])\n",
    "plt.ylim([ymin,ymax])\n",
    "\n",
    "# histogram the data\n",
    "plt.subplot(111)\n",
    "hh, locx, locy = scipy.histogram2d(diff[:,2], diff[:,0], range=xyrange, bins=bins)\n",
    "plt.imshow(hh,interpolation='none',extent=(xmin,xmax,ymin,ymax),origin='lower',aspect='auto')\n"
   ]
  },
  {
   "cell_type": "markdown",
   "metadata": {},
   "source": [
    "OK, here's an attempt at a downhill simplex (Nelder-Mead) solution"
   ]
  },
  {
   "cell_type": "code",
   "execution_count": 128,
   "metadata": {
    "collapsed": false
   },
   "outputs": [
    {
     "name": "stdout",
     "output_type": "stream",
     "text": [
      "Optimization terminated successfully.\n",
      "         Current function value: 95.103710\n",
      "         Iterations: 128\n",
      "         Function evaluations: 239\n",
      "[ 50.72367821  33.15385721   3.90050849]\n"
     ]
    }
   ],
   "source": [
    "def chifunc(a,x,y,sigma) :\n",
    "    ''' A simple Gaussian function '''\n",
    "    f=np.sum((y - (a[0] * np.exp(-0.5 * (x-a[1])**2/a[2]**2)))**2 / sigma**2 ) \n",
    "    return f\n",
    "    \n",
    "from scipy import optimize\n",
    "pars = optimize.fmin(chifunc,x0=[60.,30.,10.],args=(x,y,sigma),retall=False,xtol=1.e-7)\n",
    "\n",
    "print pars\n",
    "\n",
    "#for i in pars[1] :\n",
    "#    print i\n",
    "\n",
    "\n"
   ]
  },
  {
   "cell_type": "code",
   "execution_count": null,
   "metadata": {
    "collapsed": true
   },
   "outputs": [],
   "source": []
  }
 ],
 "metadata": {
  "kernelspec": {
   "display_name": "Python 2",
   "language": "python",
   "name": "python2"
  },
  "language_info": {
   "codemirror_mode": {
    "name": "ipython",
    "version": 2
   },
   "file_extension": ".py",
   "mimetype": "text/x-python",
   "name": "python",
   "nbconvert_exporter": "python",
   "pygments_lexer": "ipython2",
   "version": "2.7.10"
  }
 },
 "nbformat": 4,
 "nbformat_minor": 0
}
